{
 "cells": [
  {
   "cell_type": "markdown",
   "source": [
    "1. Installation"
   ],
   "metadata": {}
  },
  {
   "cell_type": "code",
   "execution_count": null,
   "source": [
    "%tensorflow_version 1.x\n",
    "!pip install --upgrade h5py==2.10.0\n",
    "!git clone https://github.com/gauravdesale8/Mask_RCNN\n",
    "import sys\n",
    "sys.path.append(\"/content/Mask_RCNN/demo\")\n",
    "from train_mask_rcnn import *\n",
    "%matplotlib inline"
   ],
   "outputs": [],
   "metadata": {}
  },
  {
   "cell_type": "markdown",
   "source": [
    "2. Image Dataset"
   ],
   "metadata": {}
  },
  {
   "cell_type": "code",
   "execution_count": null,
   "source": [
    "# Extract Images\n",
    "images_path = \"images.zip\"\n",
    "annotations_path = \"annotations.json\"\n",
    "\n",
    "extract_images(os.path.join(\"/content/\",images_path), \"/content/dataset\")"
   ],
   "outputs": [],
   "metadata": {}
  },
  {
   "cell_type": "code",
   "execution_count": null,
   "source": [
    "dataset_train = load_image_dataset(os.path.join(\"/content/\", annotations_path), \"/content/dataset\", \"train\")\n",
    "dataset_val = load_image_dataset(os.path.join(\"/content/\", annotations_path), \"/content/dataset\", \"val\")\n",
    "class_number = dataset_train.count_classes()\n",
    "print('Train: %d' % len(dataset_train.image_ids))\n",
    "print('Validation: %d' % len(dataset_val.image_ids))\n",
    "print(\"Classes: {}\".format(class_number))"
   ],
   "outputs": [],
   "metadata": {}
  },
  {
   "cell_type": "code",
   "execution_count": null,
   "source": [
    "# Load image samples\n",
    "display_image_samples(dataset_train)"
   ],
   "outputs": [],
   "metadata": {}
  },
  {
   "cell_type": "markdown",
   "source": [
    "3. Training"
   ],
   "metadata": {}
  },
  {
   "cell_type": "code",
   "execution_count": null,
   "source": [
    "# Load Configuration\n",
    "config = CustomConfig(class_number)\n",
    "#config.display()\n",
    "model = load_training_model(config)"
   ],
   "outputs": [],
   "metadata": {}
  },
  {
   "cell_type": "code",
   "execution_count": null,
   "source": [
    "# Start Training\n",
    "# This operation might take a long time.\n",
    "train_head(model, dataset_train, dataset_train, config)"
   ],
   "outputs": [],
   "metadata": {}
  },
  {
   "cell_type": "markdown",
   "source": [
    "4. Code (test your model on a random image)"
   ],
   "metadata": {}
  },
  {
   "cell_type": "code",
   "execution_count": null,
   "source": [
    "# Load Test Model\n",
    "# The latest trained model will be loaded\n",
    "test_model, inference_config = load_test_model(class_number)"
   ],
   "outputs": [],
   "metadata": {}
  },
  {
   "cell_type": "code",
   "execution_count": null,
   "source": [
    "# Test on a random image\n",
    "test_random_image(test_model, dataset_val, inference_config)"
   ],
   "outputs": [],
   "metadata": {}
  }
 ],
 "metadata": {
  "orig_nbformat": 4,
  "language_info": {
   "name": "python"
  }
 },
 "nbformat": 4,
 "nbformat_minor": 2
}
