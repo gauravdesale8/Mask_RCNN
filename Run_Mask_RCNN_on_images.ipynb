{
 "cells": [
  {
   "cell_type": "markdown",
   "source": [
    "1. Installation"
   ],
   "metadata": {}
  },
  {
   "cell_type": "code",
   "execution_count": null,
   "source": [
    "%tensorflow_version 1.x\n",
    "!pip install --upgrade h5py==2.10.0\n",
    "!git clone https://github.com/gauravdesale8/Mask_RCNN\n",
    "import sys\n",
    "sys.path.append(\"/content/Mask_RCNN/project\")\n",
    "from train_mask_rcnn_demo import *\n",
    "%matplotlib inline"
   ],
   "outputs": [],
   "metadata": {}
  },
  {
   "cell_type": "markdown",
   "source": [
    "2. Run Mask-RCNN on images"
   ],
   "metadata": {}
  },
  {
   "cell_type": "code",
   "execution_count": null,
   "source": [
    "# Load Image\n",
    "img = cv2.imread(\"/content/IMG_20210731_162020.jpg\")\n",
    "\n",
    "test_model, inference_config = load_test_model(1)\n",
    "image = cv2.cvtColor(img, cv2.COLOR_BGR2RGB)\n",
    "\n",
    "# Detect results\n",
    "r = model.detect([image])[0]\n",
    "colors = random_colors(num_classes)"
   ],
   "outputs": [],
   "metadata": {}
  },
  {
   "cell_type": "code",
   "execution_count": null,
   "source": [
    "# Get Coordinates and show it on the image\n",
    "object_count = len(r[\"class_ids\"])\n",
    "for i in range(object_count):\n",
    "    # 1. Mask\n",
    "    mask = r[\"masks\"][:, :, i]\n",
    "    contours = get_mask_contours(mask)\n",
    "    for cnt in contours:\n",
    "        cv2.polylines(img, [cnt], True, colors[i], 2)\n",
    "        img = draw_mask(img, [cnt], colors[i])"
   ],
   "outputs": [],
   "metadata": {}
  }
 ],
 "metadata": {
  "orig_nbformat": 4,
  "language_info": {
   "name": "python"
  }
 },
 "nbformat": 4,
 "nbformat_minor": 2
}