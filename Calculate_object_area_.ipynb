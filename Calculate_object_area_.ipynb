{
  "nbformat": 4,
  "nbformat_minor": 0,
  "metadata": {
    "colab": {
      "name": "Untitled3.ipynb",
      "provenance": []
    },
    "kernelspec": {
      "name": "python3",
      "display_name": "Python 3"
    },
    "language_info": {
      "name": "python"
    }
  },
  "cells": [
    {
      "cell_type": "markdown",
      "source": [
        "Installations of Lego Segmentation Code"
      ],
      "metadata": {
        "id": "G-vnEN5r4diO"
      }
    },
    {
      "cell_type": "code",
      "source": [
        "import warnings\n",
        "warnings.filterwarnings('ignore')\n",
        "%tensorflow_version 1.x\n",
        "!pip install --upgrade h5py==2.10.0\n",
        "!git clone https://github.com/gauravdesale8/Mask_RCNN/blob/master/calculate_object_area.ipynp\n",
        "import sys\n",
        "sys.path.append(\"/content/calculate_object_area/mrcnn\")\n",
        "from mrcnn_colab_engine import *\n",
        "!wget https://drive.google.com/file/d/1Q4RvTpiHgtYMR8km_u46ZAOPlL83AFhw/view?usp=sharing\n",
        "!wget -O lego_image_sample.jpg https://drive.google.com/file/d/1o24hif1_u_CNYyd_cTSntjsBo5YAbQvz/view?usp=sharing\n",
        "MODEL_DIR = \"/content/mask_rcnn_object_0009-220120-123759.h5\"\n",
        "# Load Mask rcnn model\n",
        "config = InferenceConfig()\n",
        "lego_model = modellib.MaskRCNN(mode=\"inference\", model_dir=\"\", config=config)\n",
        "# Load weights generated to detect 4 lego categories\n",
        "lego_model.load_weights(MODEL_DIR, by_name=True)\n",
        "\n",
        "# Mask RCNN model + Functions\n",
        "from google.colab.patches import cv2_imshow\n",
        "from mrcnn_colab_engine import random_colors, draw_mask, detect_contours_maskrcnn\n",
        "class_names = [\"BG\", \"green\", \"blue\", \"light blue\", \"pink\"]\n",
        "# Generate random colors\n",
        "colors = random_colors(len(class_names))"
      ],
      "metadata": {
        "id": "LAhligMI4mjH"
      },
      "execution_count": null,
      "outputs": []
    },
    {
      "cell_type": "markdown",
      "source": [
        "Loading the image and detecting Legos area"
      ],
      "metadata": {
        "id": "_gELLNm34yEg"
      }
    },
    {
      "cell_type": "code",
      "source": [
        "RATIO_PIXEL_TO_CM = 78 # 78 pixels are 1cm\n",
        "RATIO_PIXEL_TO_SQUARE_CM = 78 * 78"
      ],
      "metadata": {
        "id": "h6WI7VsI49ts"
      },
      "execution_count": null,
      "outputs": []
    },
    {
      "cell_type": "code",
      "source": [
        "import cv2\n",
        "from mrcnn_colab_engine import detect_contours_maskrcnn, draw_mask\n",
        "\n",
        "img = cv2.imread(\"lego_image_sample.jpg\")\n",
        "\n",
        "# 1. Get objects mask with Mask RCNN\n",
        "class_ids, boxes, masks = detect_contours_maskrcnn(lego_model, img)\n",
        "for class_id, box, object_contours in zip(class_ids, boxes, masks):\n",
        "    # Box\n",
        "    y1, x1, y2, x2 = box\n",
        "    # cv2.rectangle(img, (x1, y1), (x2, y2), colors[class_id], 15)\n",
        "    cv2.polylines(img, [object_contours], True, colors[class_id], 10)\n",
        "    img = draw_mask(img, [object_contours], colors[class_id])\n",
        "\n",
        "    # 2. Calculate area\n",
        "    area_px = cv2.contourArea(object_contours)\n",
        "    area_cm = round(area_px / RATIO_PIXEL_TO_SQUARE_CM, 2)\n",
        "\n",
        "    cv2.putText(img, \"A: {}cm^2\".format(area_cm), (x1, y1), cv2.FONT_HERSHEY_PLAIN, 3, colors[class_id], 5)\n",
        "\n",
        "\n",
        "cv2_imshow(img)"
      ],
      "metadata": {
        "id": "xINtZIas5Dpj"
      },
      "execution_count": null,
      "outputs": []
    }
  ]
}